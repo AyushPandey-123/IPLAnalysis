{
 "cells": [
  {
   "cell_type": "code",
   "execution_count": 3,
   "metadata": {},
   "outputs": [],
   "source": [
    "import pyspark"
   ]
  },
  {
   "cell_type": "code",
   "execution_count": 4,
   "metadata": {},
   "outputs": [],
   "source": [
    "from pyspark.sql import SparkSession"
   ]
  },
  {
   "cell_type": "code",
   "execution_count": 5,
   "metadata": {},
   "outputs": [
    {
     "name": "stderr",
     "output_type": "stream",
     "text": [
      "24/12/17 23:54:41 WARN Utils: Your hostname, Ayushs-MacBook-Air.local resolves to a loopback address: 127.0.0.1; using 192.168.1.2 instead (on interface en0)\n",
      "24/12/17 23:54:41 WARN Utils: Set SPARK_LOCAL_IP if you need to bind to another address\n",
      "Setting default log level to \"WARN\".\n",
      "To adjust logging level use sc.setLogLevel(newLevel). For SparkR, use setLogLevel(newLevel).\n",
      "24/12/17 23:54:42 WARN NativeCodeLoader: Unable to load native-hadoop library for your platform... using builtin-java classes where applicable\n"
     ]
    }
   ],
   "source": [
    "spark = SparkSession.builder.appName(\"IPL_Practise\").getOrCreate()"
   ]
  },
  {
   "cell_type": "code",
   "execution_count": 21,
   "metadata": {},
   "outputs": [],
   "source": [
    "from pyspark.sql.types import StructField, StructType, IntegerType, StringType, BooleanType, DateType, DecimalType"
   ]
  },
  {
   "cell_type": "code",
   "execution_count": null,
   "metadata": {},
   "outputs": [],
   "source": [
    "ball_by_ball_schema = StructType([\n",
    "    StructField(\"match_id\", IntegerType(), True),\n",
    "    StructField(\"over_id\", IntegerType(), True),\n",
    "    StructField(\"ball_id\", IntegerType(), True),\n",
    "    StructField(\"innings_no\", IntegerType(), True),\n",
    "    StructField(\"team_batting\", StringType(), True),\n",
    "    StructField(\"team_bowling\", StringType(), True),\n",
    "    StructField(\"striker_batting_positio IntegerType(), True),\n",
    "    StructField(\"extra_type\", StringType(), True),\n",
    "    StructField(\"runs_scored\", IntegerType(), True),\n",
    "    StructField(\"extra_runs\", IntegerType(), True),\n",
    "    StructField(\"wides\", IntegerType(), True),\n",
    "    StructField(\"legbyes\", IntegerType(), True),\n",
    "    StructField(\"byes\", IntegerType(), True),\n",
    "    StructField(\"noballs\", IntegerType(), True),\n",
    "    StructField(\"penalty\", IntegerType(), True),\n",
    "    StructField(\"bowler_extras\", IntegerType(), True),\n",
    "    StructField(\"out_type\", StringType(), True),\n",
    "    StructField(\"caught\", BooleanType(), True),\n",
    "    StructField(\"bowled\", BooleanType(), True),\n",
    "    StructField(\"run_out\", BooleanType(), True),\n",
    "    StructField(\"lbw\", BooleanType(), True),\n",
    "    StructField(\"retired_hurt\", BooleanType(), True),\n",
    "    StructField(\"stumped\", BooleanType(), True),\n",
    "    StructField(\"caught_and_bowled\", BooleanType(), True),\n",
    "    StructField(\"hit_wicket\", BooleanType(), True),\n",
    "    StructField(\"obstructingfeild\", BooleanType(), True),\n",
    "    StructField(\"bowler_wicket\", BooleanType(), True),\n",
    "    StructField(\"match_date\", DateType(), True),\n",
    "    StructField(\"seaso IntegerType(), True),\n",
    "    StructField(\"striker\", IntegerType(), True),\n",
    "    StructField(\"non_striker\", IntegerType(), True),\n",
    "    StructField(\"bowler\", IntegerType(), True),\n",
    "    StructField(\"player_out\", IntegerType(), True),\n",
    "    StructField(\"fielders\", IntegerType(), True),\n",
    "    StructField(\"striker_match_sk\", IntegerType(), True),\n",
    "    StructField(\"strikersk\", IntegerType(), True),\n",
    "    StructField(\"nonstriker_match_sk\", IntegerType(), True),\n",
    "    StructField(\"nonstriker_sk\", IntegerType(), True),\n",
    "    StructField(\"fielder_match_sk\", IntegerType(), True),\n",
    "    StructField(\"fielder_sk\", IntegerType(), True),\n",
    "    StructField(\"bowler_match_sk\", IntegerType(), True),\n",
    "    StructField(\"bowler_sk\", IntegerType(), True),\n",
    "    StructField(\"playerout_match_sk\", IntegerType(), True),\n",
    "    StructField(\"battingteam_sk\", IntegerType(), True),\n",
    "    StructField(\"bowlingteam_sk\", IntegerType(), True),\n",
    "    StructField(\"keeper_catch\", BooleanType(), True),\n",
    "    StructField(\"player_out_sk\", IntegerType(), True),\n",
    "    StructField(\"matchdatesk\", DateType(), True),\n",
    "])"
   ]
  },
  {
   "cell_type": "code",
   "execution_count": 24,
   "metadata": {},
   "outputs": [
    {
     "name": "stdout",
     "output_type": "stream",
     "text": [
      "+--------+-------+-------+----------+------------+------------+------------------------+----------+-----------+----------+-----+-------+----+-------+-------+-------------+--------------+------+------+-------+----+------------+-------+-----------------+----------+----------------+-------------+----------+------+-------+-----------+------+----------+--------+----------------+---------+-------------------+-------------+----------------+----------+---------------+---------+------------------+--------------+--------------+------------+-------------+-----------+\n",
      "|match_id|over_id|ball_id|innings_no|team_batting|team_bowling|striker_batting_position|extra_type|runs_scored|extra_runs|wides|legbyes|byes|noballs|penalty|bowler_extras|      out_type|caught|bowled|run_out| lbw|retired_hurt|stumped|caught_and_bowled|hit_wicket|obstructingfeild|bowler_wicket|match_date|season|striker|non_striker|bowler|player_out|fielders|striker_match_sk|strikersk|nonstriker_match_sk|nonstriker_sk|fielder_match_sk|fielder_sk|bowler_match_sk|bowler_sk|playerout_match_sk|battingteam_sk|bowlingteam_sk|keeper_catch|player_out_sk|matchdatesk|\n",
      "+--------+-------+-------+----------+------------+------------+------------------------+----------+-----------+----------+-----+-------+----+-------+-------+-------------+--------------+------+------+-------+----+------------+-------+-----------------+----------+----------------+-------------+----------+------+-------+-----------+------+----------+--------+----------------+---------+-------------------+-------------+----------------+----------+---------------+---------+------------------+--------------+--------------+------------+-------------+-----------+\n",
      "|  598028|     15|      6|         1|           5|           2|                       6| No Extras|          4|         0|    0|      0|   0|      0|      0|            0|Not Applicable|  NULL|  NULL|   NULL|NULL|        NULL|   NULL|             NULL|      NULL|            NULL|         NULL|      NULL|  2013|    277|        104|    83|      NULL|    NULL|           20336|      276|              20333|          103|              -1|        -1|          20343|       82|                -1|             4|             1|        NULL|            0|       NULL|\n",
      "|  598028|     14|      1|         1|           5|           2|                       5| No Extras|          1|         0|    0|      0|   0|      0|      0|            0|Not Applicable|  NULL|  NULL|   NULL|NULL|        NULL|   NULL|             NULL|      NULL|            NULL|         NULL|      NULL|  2013|    104|          6|   346|      NULL|    NULL|           20333|      103|              20328|            5|              -1|        -1|          20348|      345|                -1|             4|             1|        NULL|            0|       NULL|\n",
      "|  598028|     14|      2|         1|           5|           2|                       3| No Extras|          1|         0|    0|      0|   0|      0|      0|            0|Not Applicable|  NULL|  NULL|   NULL|NULL|        NULL|   NULL|             NULL|      NULL|            NULL|         NULL|      NULL|  2013|      6|        104|   346|      NULL|    NULL|           20328|        5|              20333|          103|              -1|        -1|          20348|      345|                -1|             4|             1|        NULL|            0|       NULL|\n",
      "|  598028|     14|      3|         1|           5|           2|                       5| No Extras|          1|         0|    0|      0|   0|      0|      0|            0|Not Applicable|  NULL|  NULL|   NULL|NULL|        NULL|   NULL|             NULL|      NULL|            NULL|         NULL|      NULL|  2013|    104|          6|   346|      NULL|    NULL|           20333|      103|              20328|            5|              -1|        -1|          20348|      345|                -1|             4|             1|        NULL|            0|       NULL|\n",
      "|  598028|     14|      4|         1|           5|           2|                       3| No Extras|          0|         0|    0|      0|   0|      0|      0|            0|Not Applicable|  NULL|  NULL|   NULL|NULL|        NULL|   NULL|             NULL|      NULL|            NULL|         NULL|      NULL|  2013|      6|        104|   346|      NULL|    NULL|           20328|        5|              20333|          103|              -1|        -1|          20348|      345|                -1|             4|             1|        NULL|            0|       NULL|\n",
      "|  598028|     14|      5|         1|           5|           2|                       3| No Extras|          4|         0|    0|      0|   0|      0|      0|            0|Not Applicable|  NULL|  NULL|   NULL|NULL|        NULL|   NULL|             NULL|      NULL|            NULL|         NULL|      NULL|  2013|      6|        104|   346|      NULL|    NULL|           20328|        5|              20333|          103|              -1|        -1|          20348|      345|                -1|             4|             1|        NULL|            0|       NULL|\n",
      "|  598028|     14|      6|         1|           5|           2|                       3| No Extras|          2|         0|    0|      0|   0|      0|      0|            0|Not Applicable|  NULL|  NULL|   NULL|NULL|        NULL|   NULL|             NULL|      NULL|            NULL|         NULL|      NULL|  2013|      6|        104|   346|      NULL|    NULL|           20328|        5|              20333|          103|              -1|        -1|          20348|      345|                -1|             4|             1|        NULL|            0|       NULL|\n",
      "|  598028|     13|      1|         1|           5|           2|                       5| No Extras|          1|         0|    0|      0|   0|      0|      0|            0|Not Applicable|  NULL|  NULL|   NULL|NULL|        NULL|   NULL|             NULL|      NULL|            NULL|         NULL|      NULL|  2013|    104|          6|    83|      NULL|    NULL|           20333|      103|              20328|            5|              -1|        -1|          20343|       82|                -1|             4|             1|        NULL|            0|       NULL|\n",
      "|  598028|     13|      2|         1|           5|           2|                       3| No Extras|          4|         0|    0|      0|   0|      0|      0|            0|Not Applicable|  NULL|  NULL|   NULL|NULL|        NULL|   NULL|             NULL|      NULL|            NULL|         NULL|      NULL|  2013|      6|        104|    83|      NULL|    NULL|           20328|        5|              20333|          103|              -1|        -1|          20343|       82|                -1|             4|             1|        NULL|            0|       NULL|\n",
      "|  598028|     13|      3|         1|           5|           2|                       3| No Extras|          1|         0|    0|      0|   0|      0|      0|            0|Not Applicable|  NULL|  NULL|   NULL|NULL|        NULL|   NULL|             NULL|      NULL|            NULL|         NULL|      NULL|  2013|      6|        104|    83|      NULL|    NULL|           20328|        5|              20333|          103|              -1|        -1|          20343|       82|                -1|             4|             1|        NULL|            0|       NULL|\n",
      "|  598028|     13|      4|         1|           5|           2|                       5| No Extras|          0|         0|    0|      0|   0|      0|      0|            0|Not Applicable|  NULL|  NULL|   NULL|NULL|        NULL|   NULL|             NULL|      NULL|            NULL|         NULL|      NULL|  2013|    104|          6|    83|      NULL|    NULL|           20333|      103|              20328|            5|              -1|        -1|          20343|       82|                -1|             4|             1|        NULL|            0|       NULL|\n",
      "|  598028|     13|      5|         1|           5|           2|                       5| No Extras|          0|         0|    0|      0|   0|      0|      0|            0|Not Applicable|  NULL|  NULL|   NULL|NULL|        NULL|   NULL|             NULL|      NULL|            NULL|         NULL|      NULL|  2013|    104|          6|    83|      NULL|    NULL|           20333|      103|              20328|            5|              -1|        -1|          20343|       82|                -1|             4|             1|        NULL|            0|       NULL|\n",
      "|  598028|     13|      6|         1|           5|           2|                       5| No Extras|          1|         0|    0|      0|   0|      0|      0|            0|Not Applicable|  NULL|  NULL|   NULL|NULL|        NULL|   NULL|             NULL|      NULL|            NULL|         NULL|      NULL|  2013|    104|          6|    83|      NULL|    NULL|           20333|      103|              20328|            5|              -1|        -1|          20343|       82|                -1|             4|             1|        NULL|            0|       NULL|\n",
      "|  598028|     12|      1|         1|           5|           2|                       3| No Extras|          1|         0|    0|      0|   0|      0|      0|            0|Not Applicable|  NULL|  NULL|   NULL|NULL|        NULL|   NULL|             NULL|      NULL|            NULL|         NULL|      NULL|  2013|      6|        104|   346|      NULL|    NULL|           20328|        5|              20333|          103|              -1|        -1|          20348|      345|                -1|             4|             1|        NULL|            0|       NULL|\n",
      "|  598028|     12|      2|         1|           5|           2|                       5| No Extras|          0|         0|    0|      0|   0|      0|      0|            0|Not Applicable|  NULL|  NULL|   NULL|NULL|        NULL|   NULL|             NULL|      NULL|            NULL|         NULL|      NULL|  2013|    104|          6|   346|      NULL|    NULL|           20333|      103|              20328|            5|              -1|        -1|          20348|      345|                -1|             4|             1|        NULL|            0|       NULL|\n",
      "|  598028|     12|      3|         1|           5|           2|                       5| No Extras|          1|         0|    0|      0|   0|      0|      0|            0|Not Applicable|  NULL|  NULL|   NULL|NULL|        NULL|   NULL|             NULL|      NULL|            NULL|         NULL|      NULL|  2013|    104|          6|   346|      NULL|    NULL|           20333|      103|              20328|            5|              -1|        -1|          20348|      345|                -1|             4|             1|        NULL|            0|       NULL|\n",
      "|  598028|     12|      4|         1|           5|           2|                       3| No Extras|          1|         0|    0|      0|   0|      0|      0|            0|Not Applicable|  NULL|  NULL|   NULL|NULL|        NULL|   NULL|             NULL|      NULL|            NULL|         NULL|      NULL|  2013|      6|        104|   346|      NULL|    NULL|           20328|        5|              20333|          103|              -1|        -1|          20348|      345|                -1|             4|             1|        NULL|            0|       NULL|\n",
      "|  598028|     12|      5|         1|           5|           2|                       5| No Extras|          0|         0|    0|      0|   0|      0|      0|            0|Not Applicable|  NULL|  NULL|   NULL|NULL|        NULL|   NULL|             NULL|      NULL|            NULL|         NULL|      NULL|  2013|    104|          6|   346|      NULL|    NULL|           20333|      103|              20328|            5|              -1|        -1|          20348|      345|                -1|             4|             1|        NULL|            0|       NULL|\n",
      "|  598028|     12|      6|         1|           5|           2|                       5| No Extras|          1|         0|    0|      0|   0|      0|      0|            0|Not Applicable|  NULL|  NULL|   NULL|NULL|        NULL|   NULL|             NULL|      NULL|            NULL|         NULL|      NULL|  2013|    104|          6|   346|      NULL|    NULL|           20333|      103|              20328|            5|              -1|        -1|          20348|      345|                -1|             4|             1|        NULL|            0|       NULL|\n",
      "|  598028|     11|      1|         1|           5|           2|                       5| No Extras|          0|         0|    0|      0|   0|      0|      0|            0|Not Applicable|  NULL|  NULL|   NULL|NULL|        NULL|   NULL|             NULL|      NULL|            NULL|         NULL|      NULL|  2013|    104|          6|    83|      NULL|    NULL|           20333|      103|              20328|            5|              -1|        -1|          20343|       82|                -1|             4|             1|        NULL|            0|       NULL|\n",
      "+--------+-------+-------+----------+------------+------------+------------------------+----------+-----------+----------+-----+-------+----+-------+-------+-------------+--------------+------+------+-------+----+------------+-------+-----------------+----------+----------------+-------------+----------+------+-------+-----------+------+----------+--------+----------------+---------+-------------------+-------------+----------------+----------+---------------+---------+------------------+--------------+--------------+------------+-------------+-----------+\n",
      "only showing top 20 rows\n",
      "\n"
     ]
    }
   ],
   "source": [
    "ball_by_ball_df = spark.read.schema(ball_by_ball_schema).csv('files/Ball_By_Ball.csv', header=True)\n",
    "ball_by_ball_df.show()"
   ]
  },
  {
   "cell_type": "code",
   "execution_count": 25,
   "metadata": {},
   "outputs": [],
   "source": [
    "match_schema = StructType([\n",
    "       StructField(\"match_sk\", IntegerType(), True),\n",
    "       StructField(\"match_id\", IntegerType(), True),\n",
    "       StructField(\"team1\", StringType(), True),\n",
    "       StructField(\"team2\", StringType(), True),\n",
    "       StructField(\"match_date\", DateType(), True),\n",
    "       StructField(\"season_year\", IntegerType(), True),\n",
    "       StructField(\"venue_name\", StringType(), True),\n",
    "       StructField(\"city_name\", StringType(), True),\n",
    "       StructField(\"country_name\", StringType(), True),\n",
    "       StructField(\"toss_winner\", StringType(), True),\n",
    "       StructField(\"match_winner\", StringType(), True),\n",
    "       StructField(\"toss_name\", StringType(), True),\n",
    "       StructField(\"win_type\", StringType(), True),\n",
    "       StructField(\"outcome_type\", StringType(), True),\n",
    "       StructField(\"manofmach\", StringType(), True),\n",
    "       StructField(\"win_margi IntegerType(), True),\n",
    "       StructField(\"country_id\", IntegerType(), True)\n",
    "])"
   ]
  },
  {
   "cell_type": "code",
   "execution_count": 27,
   "metadata": {},
   "outputs": [
    {
     "name": "stdout",
     "output_type": "stream",
     "text": [
      "+--------+--------+--------------------+--------------------+----------+-----------+--------------------+----------+------------+--------------------+--------------------+---------+--------+------------+-------------+----------+----------+\n",
      "|match_sk|match_id|               team1|               team2|match_date|season_year|          venue_name| city_name|country_name|         toss_winner|        match_winner|toss_name|win_type|outcome_type|    manofmach|win_margin|country_id|\n",
      "+--------+--------+--------------------+--------------------+----------+-----------+--------------------+----------+------------+--------------------+--------------------+---------+--------+------------+-------------+----------+----------+\n",
      "|       0|  335987|Royal Challengers...|Kolkata Knight Ri...|      NULL|       2008|M Chinnaswamy Sta...| Bangalore|       India|Royal Challengers...|Kolkata Knight Ri...|    field|    runs|      Result|  BB McCullum|       140|         1|\n",
      "|       1|  335988|     Kings XI Punjab| Chennai Super Kings|      NULL|       2008|Punjab Cricket As...|Chandigarh|       India| Chennai Super Kings| Chennai Super Kings|      bat|    runs|      Result|   MEK Hussey|        33|         1|\n",
      "|       2|  335989|    Delhi Daredevils|    Rajasthan Royals|      NULL|       2008|    Feroz Shah Kotla|     Delhi|       India|    Rajasthan Royals|    Delhi Daredevils|      bat| wickets|      Result|  MF Maharoof|         9|         1|\n",
      "|       3|  335990|      Mumbai Indians|Royal Challengers...|      NULL|       2008|    Wankhede Stadium|    Mumbai|       India|      Mumbai Indians|Royal Challengers...|      bat| wickets|      Result|   MV Boucher|         5|         1|\n",
      "|       4|  335991|Kolkata Knight Ri...|     Deccan Chargers|      NULL|       2008|        Eden Gardens|   Kolkata|       India|     Deccan Chargers|Kolkata Knight Ri...|      bat| wickets|      Result|    DJ Hussey|         5|         1|\n",
      "|       5|  335992|    Rajasthan Royals|     Kings XI Punjab|      NULL|       2008|Sawai Mansingh St...|    Jaipur|       India|     Kings XI Punjab|    Rajasthan Royals|      bat| wickets|      Result|    SR Watson|         6|         1|\n",
      "|       6|  335993|     Deccan Chargers|    Delhi Daredevils|      NULL|       2008|Rajiv Gandhi Inte...| Hyderabad|       India|     Deccan Chargers|    Delhi Daredevils|      bat| wickets|      Result|     V Sehwag|         9|         1|\n",
      "|       7|  335994| Chennai Super Kings|      Mumbai Indians|      NULL|       2008|MA Chidambaram St...|   Chennai|       India|      Mumbai Indians| Chennai Super Kings|    field|    runs|      Result|    ML Hayden|         6|         1|\n",
      "|       8|  335995|     Deccan Chargers|    Rajasthan Royals|      NULL|       2008|Rajiv Gandhi Inte...| Hyderabad|       India|    Rajasthan Royals|    Rajasthan Royals|    field| wickets|      Result|    YK Pathan|         3|         1|\n",
      "|       9|  335996|     Kings XI Punjab|      Mumbai Indians|      NULL|       2008|Punjab Cricket As...|Chandigarh|       India|      Mumbai Indians|     Kings XI Punjab|    field|    runs|      Result|KC Sangakkara|        66|         1|\n",
      "|      10|  335997|Royal Challengers...|    Rajasthan Royals|      NULL|       2008|M Chinnaswamy Sta...| Bangalore|       India|    Rajasthan Royals|    Rajasthan Royals|    field| wickets|      Result|    SR Watson|         7|         1|\n",
      "|      11|  335998| Chennai Super Kings|Kolkata Knight Ri...|      NULL|       2008|MA Chidambaram St...|   Chennai|       India|Kolkata Knight Ri...| Chennai Super Kings|      bat| wickets|      Result|     JDP Oram|         9|         1|\n",
      "|      12|  335999|      Mumbai Indians|     Deccan Chargers|      NULL|       2008|Dr DY Patil Sport...|    Mumbai|       India|     Deccan Chargers|     Deccan Chargers|    field| wickets|      Result| AC Gilchrist|        10|         1|\n",
      "|      13|  336000|     Kings XI Punjab|    Delhi Daredevils|      NULL|       2008|Punjab Cricket As...|Chandigarh|       India|    Delhi Daredevils|     Kings XI Punjab|      bat| wickets|      Result|    SM Katich|         4|         1|\n",
      "|      14|  336001|Royal Challengers...| Chennai Super Kings|      NULL|       2008|M Chinnaswamy Sta...| Bangalore|       India| Chennai Super Kings| Chennai Super Kings|      bat|    runs|      Result|     MS Dhoni|        13|         1|\n",
      "|      15|  336002|Kolkata Knight Ri...|      Mumbai Indians|      NULL|       2008|        Eden Gardens|   Kolkata|       India|Kolkata Knight Ri...|      Mumbai Indians|      bat| wickets|      Result|ST Jayasuriya|         7|         1|\n",
      "|      16|  336003|    Delhi Daredevils|Royal Challengers...|      NULL|       2008|    Feroz Shah Kotla|     Delhi|       India|Royal Challengers...|    Delhi Daredevils|    field|    runs|      Result|   GD McGrath|        10|         1|\n",
      "|      17|  336004|     Deccan Chargers|     Kings XI Punjab|      NULL|       2008|Rajiv Gandhi Inte...| Hyderabad|       India|     Kings XI Punjab|     Kings XI Punjab|    field| wickets|      Result|     SE Marsh|         7|         1|\n",
      "|      18|  336005|    Rajasthan Royals|Kolkata Knight Ri...|      NULL|       2008|Sawai Mansingh St...|    Jaipur|       India|    Rajasthan Royals|    Rajasthan Royals|      bat|    runs|      Result|  SA Asnodkar|        45|         1|\n",
      "|      19|  336006| Chennai Super Kings|    Delhi Daredevils|      NULL|       2008|MA Chidambaram St...|   Chennai|       India| Chennai Super Kings|    Delhi Daredevils|      bat| wickets|      Result|     V Sehwag|         8|         1|\n",
      "+--------+--------+--------------------+--------------------+----------+-----------+--------------------+----------+------------+--------------------+--------------------+---------+--------+------------+-------------+----------+----------+\n",
      "only showing top 20 rows\n",
      "\n"
     ]
    }
   ],
   "source": [
    "match_df = spark.read.schema(match_schema).csv('files/Match.csv',header=True)\n",
    "match_df.show()"
   ]
  },
  {
   "cell_type": "code",
   "execution_count": 28,
   "metadata": {},
   "outputs": [],
   "source": [
    "player_schema = StructType([\n",
    "    StructField(\"player_sk\", IntegerType(), True),\n",
    "    StructField(\"player_id\", IntegerType(), True),\n",
    "    StructField(\"player_name\", StringType(), True),\n",
    "    StructField(\"dob\", DateType(), True),\n",
    "    StructField(\"batting_hand\", StringType(), True),\n",
    "    StructField(\"bowling_skill\", StringType(), True),\n",
    "    StructField(\"country_name\", StringType(), True)\n",
    "])"
   ]
  },
  {
   "cell_type": "code",
   "execution_count": 29,
   "metadata": {},
   "outputs": [
    {
     "name": "stdout",
     "output_type": "stream",
     "text": [
      "+---------+---------+---------------+----+--------------+--------------------+------------+\n",
      "|player_sk|player_id|    player_name| dob|  batting_hand|       bowling_skill|country_name|\n",
      "+---------+---------+---------------+----+--------------+--------------------+------------+\n",
      "|        0|        1|     SC Ganguly|NULL| Left-hand bat|    Right-arm medium|       India|\n",
      "|        1|        2|    BB McCullum|NULL|Right-hand bat|    Right-arm medium| New Zealand|\n",
      "|        2|        3|     RT Ponting|NULL|Right-hand bat|    Right-arm medium|   Australia|\n",
      "|        3|        4|      DJ Hussey|NULL|Right-hand bat|  Right-arm offbreak|   Australia|\n",
      "|        4|        5|Mohammad Hafeez|NULL|Right-hand bat|  Right-arm offbreak|    Pakistan|\n",
      "|        5|        6|       R Dravid|NULL|Right-hand bat|  Right-arm offbreak|       India|\n",
      "|        6|        7|       W Jaffer|NULL|Right-hand bat|  Right-arm offbreak|       India|\n",
      "|        7|        8|        V Kohli|NULL|Right-hand bat|    Right-arm medium|       India|\n",
      "|        8|        9|      JH Kallis|NULL|Right-hand bat|Right-arm fast-me...|South Africa|\n",
      "|        9|       10|       CL White|NULL|Right-hand bat|     Legbreak googly|   Australia|\n",
      "|       10|       11|     MV Boucher|NULL|Right-hand bat|    Right-arm medium|South Africa|\n",
      "|       11|       12|        B Akhil|NULL|Right-hand bat|Right-arm medium-...|       India|\n",
      "|       12|       13|      AA Noffke|NULL|Right-hand bat|Right-arm fast-me...|   Australia|\n",
      "|       13|       14|        P Kumar|NULL|Right-hand bat|    Right-arm medium|       India|\n",
      "|       14|       15|         Z Khan|NULL|Right-hand bat|Left-arm fast-medium|       India|\n",
      "|       15|       16|       SB Joshi|NULL| Left-hand bat|Slow left-arm ort...|       India|\n",
      "|       16|       17|       PA Patel|NULL| Left-hand bat|                 N/A|       India|\n",
      "|       17|       18|      ML Hayden|NULL| Left-hand bat|    Right-arm medium|   Australia|\n",
      "|       18|       19|     MEK Hussey|NULL| Left-hand bat|    Right-arm medium|   Australia|\n",
      "|       19|       20|       MS Dhoni|NULL|Right-hand bat|    Right-arm medium|       India|\n",
      "+---------+---------+---------------+----+--------------+--------------------+------------+\n",
      "only showing top 20 rows\n",
      "\n"
     ]
    }
   ],
   "source": [
    "player_df = spark.read.schema(player_schema).csv('files/Player.csv',header=True)\n",
    "player_df.show()"
   ]
  },
  {
   "cell_type": "code",
   "execution_count": 30,
   "metadata": {},
   "outputs": [],
   "source": [
    "player_match_schema = StructType([\n",
    "    StructField(\"player_match_sk\", IntegerType(), True),\n",
    "    StructField(\"playermatch_key\", DecimalType(), True),\n",
    "    StructField(\"match_id\", IntegerType(), True),\n",
    "    StructField(\"player_id\", IntegerType(), True),\n",
    "    StructField(\"player_name\", StringType(), True),\n",
    "    StructField(\"dob\", DateType(), True),\n",
    "    StructField(\"batting_hand\", StringType(), True),\n",
    "    StructField(\"bowling_skill\", StringType(), True),\n",
    "    StructField(\"country_name\", StringType(), True),\n",
    "    StructField(\"role_desc\", StringType(), True),\n",
    "    StructField(\"player_team\", StringType(), True),\n",
    "    StructField(\"opposit_team\", StringType(), True),\n",
    "    StructField(\"season_year\", IntegerType(), True),\n",
    "    StructField(\"is_manofthematch\", BooleanType(), True),\n",
    "    StructField(\"age_as_on_match\", IntegerType(), True),\n",
    "    StructField(\"isplayers_team_won\", BooleanType(), True),\n",
    "    StructField(\"batting_status\", StringType(), True),\n",
    "    StructField(\"bowling_status\", StringType(), True),\n",
    "    StructField(\"player_captain\", StringType(), True),\n",
    "    StructField(\"opposit_captain\", StringType(), True),\n",
    "    StructField(\"player_keeper\", StringType(), True),\n",
    "    StructField(\"opposit_keeper\", StringType(), True)\n",
    "])"
   ]
  }
 ],
 "metadata": {
  "kernelspec": {
   "display_name": ".venv",
   "language": "python",
   "name": "python3"
  },
  "language_info": {
   "codemirror_mode": {
    "name": "ipython",
    "version": 3
   },
   "file_extension": ".py",
   "mimetype": "text/x-python",
   "name": "python",
   "nbconvert_exporter": "python",
   "pygments_lexer": "ipython3",
   "version": "3.9.6"
  }
 },
 "nbformat": 4,
 "nbformat_minor": 2
}
