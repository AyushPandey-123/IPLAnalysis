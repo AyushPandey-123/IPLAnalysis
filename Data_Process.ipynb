{
 "cells": [
  {
   "cell_type": "code",
   "execution_count": 3,
   "metadata": {},
   "outputs": [],
   "source": [
    "import pyspark"
   ]
  },
  {
   "cell_type": "code",
   "execution_count": 4,
   "metadata": {},
   "outputs": [],
   "source": [
    "from pyspark.sql import SparkSession"
   ]
  },
  {
   "cell_type": "code",
   "execution_count": 5,
   "metadata": {},
   "outputs": [
    {
     "name": "stderr",
     "output_type": "stream",
     "text": [
      "24/12/21 16:16:58 WARN Utils: Your hostname, Ayushs-MacBook-Air.local resolves to a loopback address: 127.0.0.1; using 192.168.1.4 instead (on interface en0)\n",
      "24/12/21 16:16:58 WARN Utils: Set SPARK_LOCAL_IP if you need to bind to another address\n",
      "Setting default log level to \"WARN\".\n",
      "To adjust logging level use sc.setLogLevel(newLevel). For SparkR, use setLogLevel(newLevel).\n",
      "24/12/21 16:16:58 WARN NativeCodeLoader: Unable to load native-hadoop library for your platform... using builtin-java classes where applicable\n"
     ]
    }
   ],
   "source": [
    "spark = SparkSession.builder.appName(\"IPL_Practise_New\").getOrCreate()"
   ]
  },
  {
   "cell_type": "code",
   "execution_count": 6,
   "metadata": {},
   "outputs": [],
   "source": [
    "from pyspark.sql.types import StructField, StructType, IntegerType, StringType, BooleanType, DateType, DecimalType\n",
    "from pyspark.sql import functions as f\n",
    "from pyspark.sql import Window "
   ]
  },
  {
   "cell_type": "code",
   "execution_count": 7,
   "metadata": {},
   "outputs": [],
   "source": [
    "ball_by_ball_schema = StructType([\n",
    "    StructField(\"match_id\", IntegerType(), True),\n",
    "    StructField(\"over_id\", IntegerType(), True),\n",
    "    StructField(\"ball_id\", IntegerType(), True),\n",
    "    StructField(\"innings_no\", IntegerType(), True),\n",
    "    StructField(\"team_batting\", StringType(), True),\n",
    "    StructField(\"team_bowling\", StringType(), True),\n",
    "    StructField(\"striker_batting_position\", IntegerType(), True),\n",
    "    StructField(\"extra_type\", StringType(), True),\n",
    "    StructField(\"runs_scored\", IntegerType(), True),\n",
    "    StructField(\"extra_runs\", IntegerType(), True),\n",
    "    StructField(\"wides\", IntegerType(), True),\n",
    "    StructField(\"legbyes\", IntegerType(), True),\n",
    "    StructField(\"byes\", IntegerType(), True),\n",
    "    StructField(\"noballs\", IntegerType(), True),\n",
    "    StructField(\"penalty\", IntegerType(), True),\n",
    "    StructField(\"bowler_extras\", IntegerType(), True),\n",
    "    StructField(\"out_type\", StringType(), True),\n",
    "    StructField(\"caught\", BooleanType(), True),\n",
    "    StructField(\"bowled\", BooleanType(), True),\n",
    "    StructField(\"run_out\", BooleanType(), True),\n",
    "    StructField(\"lbw\", BooleanType(), True),\n",
    "    StructField(\"retired_hurt\", BooleanType(), True),\n",
    "    StructField(\"stumped\", BooleanType(), True),\n",
    "    StructField(\"caught_and_bowled\", BooleanType(), True),\n",
    "    StructField(\"hit_wicket\", BooleanType(), True),\n",
    "    StructField(\"obstructingfeild\", BooleanType(), True),\n",
    "    StructField(\"bowler_wicket\", BooleanType(), True),\n",
    "    StructField(\"match_date\", StringType(), True),\n",
    "    StructField(\"season\", IntegerType(), True),\n",
    "    StructField(\"striker\", IntegerType(), True),\n",
    "    StructField(\"non_striker\", IntegerType(), True),\n",
    "    StructField(\"bowler\", IntegerType(), True),\n",
    "    StructField(\"player_out\", IntegerType(), True),\n",
    "    StructField(\"fielders\", IntegerType(), True),\n",
    "    StructField(\"striker_match_sk\", IntegerType(), True),\n",
    "    StructField(\"strikersk\", IntegerType(), True),\n",
    "    StructField(\"nonstriker_match_sk\", IntegerType(), True),\n",
    "    StructField(\"nonstriker_sk\", IntegerType(), True),\n",
    "    StructField(\"fielder_match_sk\", IntegerType(), True),\n",
    "    StructField(\"fielder_sk\", IntegerType(), True),\n",
    "    StructField(\"bowler_match_sk\", IntegerType(), True),\n",
    "    StructField(\"bowler_sk\", IntegerType(), True),\n",
    "    StructField(\"playerout_match_sk\", IntegerType(), True),\n",
    "    StructField(\"battingteam_sk\", IntegerType(), True),\n",
    "    StructField(\"bowlingteam_sk\", IntegerType(), True),\n",
    "    StructField(\"keeper_catch\", BooleanType(), True),\n",
    "    StructField(\"player_out_sk\", IntegerType(), True),\n",
    "    StructField(\"matchdatesk\", StringType(), True),\n",
    "])"
   ]
  },
  {
   "cell_type": "code",
   "execution_count": 8,
   "metadata": {},
   "outputs": [
    {
     "name": "stderr",
     "output_type": "stream",
     "text": [
      "24/12/21 16:17:00 WARN SparkStringUtils: Truncated the string representation of a plan since it was too large. This behavior can be adjusted by setting 'spark.sql.debug.maxToStringFields'.\n"
     ]
    },
    {
     "name": "stdout",
     "output_type": "stream",
     "text": [
      "+--------+-------+-------+----------+------------+------------+------------------------+----------+-----------+----------+-----+-------+----+-------+-------+-------------+--------------+------+------+-------+----+------------+-------+-----------------+----------+----------------+-------------+----------+------+-------+-----------+------+----------+--------+----------------+---------+-------------------+-------------+----------------+----------+---------------+---------+------------------+--------------+--------------+------------+-------------+-----------+\n",
      "|match_id|over_id|ball_id|innings_no|team_batting|team_bowling|striker_batting_position|extra_type|runs_scored|extra_runs|wides|legbyes|byes|noballs|penalty|bowler_extras|      out_type|caught|bowled|run_out| lbw|retired_hurt|stumped|caught_and_bowled|hit_wicket|obstructingfeild|bowler_wicket|match_date|season|striker|non_striker|bowler|player_out|fielders|striker_match_sk|strikersk|nonstriker_match_sk|nonstriker_sk|fielder_match_sk|fielder_sk|bowler_match_sk|bowler_sk|playerout_match_sk|battingteam_sk|bowlingteam_sk|keeper_catch|player_out_sk|matchdatesk|\n",
      "+--------+-------+-------+----------+------------+------------+------------------------+----------+-----------+----------+-----+-------+----+-------+-------+-------------+--------------+------+------+-------+----+------------+-------+-----------------+----------+----------------+-------------+----------+------+-------+-----------+------+----------+--------+----------------+---------+-------------------+-------------+----------------+----------+---------------+---------+------------------+--------------+--------------+------------+-------------+-----------+\n",
      "|  598028|     15|      6|         1|           5|           2|                       6| No Extras|          4|         0|    0|      0|   0|      0|      0|            0|Not Applicable|  NULL|  NULL|   NULL|NULL|        NULL|   NULL|             NULL|      NULL|            NULL|         NULL|2013-04-20|  2013|    277|        104|    83|      NULL|    NULL|           20336|      276|              20333|          103|              -1|        -1|          20343|       82|                -1|             4|             1|        NULL|            0| 2013-04-20|\n",
      "|  598028|     14|      1|         1|           5|           2|                       5| No Extras|          1|         0|    0|      0|   0|      0|      0|            0|Not Applicable|  NULL|  NULL|   NULL|NULL|        NULL|   NULL|             NULL|      NULL|            NULL|         NULL|2013-04-20|  2013|    104|          6|   346|      NULL|    NULL|           20333|      103|              20328|            5|              -1|        -1|          20348|      345|                -1|             4|             1|        NULL|            0| 2013-04-20|\n",
      "|  598028|     14|      2|         1|           5|           2|                       3| No Extras|          1|         0|    0|      0|   0|      0|      0|            0|Not Applicable|  NULL|  NULL|   NULL|NULL|        NULL|   NULL|             NULL|      NULL|            NULL|         NULL|2013-04-20|  2013|      6|        104|   346|      NULL|    NULL|           20328|        5|              20333|          103|              -1|        -1|          20348|      345|                -1|             4|             1|        NULL|            0| 2013-04-20|\n",
      "|  598028|     14|      3|         1|           5|           2|                       5| No Extras|          1|         0|    0|      0|   0|      0|      0|            0|Not Applicable|  NULL|  NULL|   NULL|NULL|        NULL|   NULL|             NULL|      NULL|            NULL|         NULL|2013-04-20|  2013|    104|          6|   346|      NULL|    NULL|           20333|      103|              20328|            5|              -1|        -1|          20348|      345|                -1|             4|             1|        NULL|            0| 2013-04-20|\n",
      "|  598028|     14|      4|         1|           5|           2|                       3| No Extras|          0|         0|    0|      0|   0|      0|      0|            0|Not Applicable|  NULL|  NULL|   NULL|NULL|        NULL|   NULL|             NULL|      NULL|            NULL|         NULL|2013-04-20|  2013|      6|        104|   346|      NULL|    NULL|           20328|        5|              20333|          103|              -1|        -1|          20348|      345|                -1|             4|             1|        NULL|            0| 2013-04-20|\n",
      "|  598028|     14|      5|         1|           5|           2|                       3| No Extras|          4|         0|    0|      0|   0|      0|      0|            0|Not Applicable|  NULL|  NULL|   NULL|NULL|        NULL|   NULL|             NULL|      NULL|            NULL|         NULL|2013-04-20|  2013|      6|        104|   346|      NULL|    NULL|           20328|        5|              20333|          103|              -1|        -1|          20348|      345|                -1|             4|             1|        NULL|            0| 2013-04-20|\n",
      "|  598028|     14|      6|         1|           5|           2|                       3| No Extras|          2|         0|    0|      0|   0|      0|      0|            0|Not Applicable|  NULL|  NULL|   NULL|NULL|        NULL|   NULL|             NULL|      NULL|            NULL|         NULL|2013-04-20|  2013|      6|        104|   346|      NULL|    NULL|           20328|        5|              20333|          103|              -1|        -1|          20348|      345|                -1|             4|             1|        NULL|            0| 2013-04-20|\n",
      "|  598028|     13|      1|         1|           5|           2|                       5| No Extras|          1|         0|    0|      0|   0|      0|      0|            0|Not Applicable|  NULL|  NULL|   NULL|NULL|        NULL|   NULL|             NULL|      NULL|            NULL|         NULL|2013-04-20|  2013|    104|          6|    83|      NULL|    NULL|           20333|      103|              20328|            5|              -1|        -1|          20343|       82|                -1|             4|             1|        NULL|            0| 2013-04-20|\n",
      "|  598028|     13|      2|         1|           5|           2|                       3| No Extras|          4|         0|    0|      0|   0|      0|      0|            0|Not Applicable|  NULL|  NULL|   NULL|NULL|        NULL|   NULL|             NULL|      NULL|            NULL|         NULL|2013-04-20|  2013|      6|        104|    83|      NULL|    NULL|           20328|        5|              20333|          103|              -1|        -1|          20343|       82|                -1|             4|             1|        NULL|            0| 2013-04-20|\n",
      "|  598028|     13|      3|         1|           5|           2|                       3| No Extras|          1|         0|    0|      0|   0|      0|      0|            0|Not Applicable|  NULL|  NULL|   NULL|NULL|        NULL|   NULL|             NULL|      NULL|            NULL|         NULL|2013-04-20|  2013|      6|        104|    83|      NULL|    NULL|           20328|        5|              20333|          103|              -1|        -1|          20343|       82|                -1|             4|             1|        NULL|            0| 2013-04-20|\n",
      "|  598028|     13|      4|         1|           5|           2|                       5| No Extras|          0|         0|    0|      0|   0|      0|      0|            0|Not Applicable|  NULL|  NULL|   NULL|NULL|        NULL|   NULL|             NULL|      NULL|            NULL|         NULL|2013-04-20|  2013|    104|          6|    83|      NULL|    NULL|           20333|      103|              20328|            5|              -1|        -1|          20343|       82|                -1|             4|             1|        NULL|            0| 2013-04-20|\n",
      "|  598028|     13|      5|         1|           5|           2|                       5| No Extras|          0|         0|    0|      0|   0|      0|      0|            0|Not Applicable|  NULL|  NULL|   NULL|NULL|        NULL|   NULL|             NULL|      NULL|            NULL|         NULL|2013-04-20|  2013|    104|          6|    83|      NULL|    NULL|           20333|      103|              20328|            5|              -1|        -1|          20343|       82|                -1|             4|             1|        NULL|            0| 2013-04-20|\n",
      "|  598028|     13|      6|         1|           5|           2|                       5| No Extras|          1|         0|    0|      0|   0|      0|      0|            0|Not Applicable|  NULL|  NULL|   NULL|NULL|        NULL|   NULL|             NULL|      NULL|            NULL|         NULL|2013-04-20|  2013|    104|          6|    83|      NULL|    NULL|           20333|      103|              20328|            5|              -1|        -1|          20343|       82|                -1|             4|             1|        NULL|            0| 2013-04-20|\n",
      "|  598028|     12|      1|         1|           5|           2|                       3| No Extras|          1|         0|    0|      0|   0|      0|      0|            0|Not Applicable|  NULL|  NULL|   NULL|NULL|        NULL|   NULL|             NULL|      NULL|            NULL|         NULL|2013-04-20|  2013|      6|        104|   346|      NULL|    NULL|           20328|        5|              20333|          103|              -1|        -1|          20348|      345|                -1|             4|             1|        NULL|            0| 2013-04-20|\n",
      "|  598028|     12|      2|         1|           5|           2|                       5| No Extras|          0|         0|    0|      0|   0|      0|      0|            0|Not Applicable|  NULL|  NULL|   NULL|NULL|        NULL|   NULL|             NULL|      NULL|            NULL|         NULL|2013-04-20|  2013|    104|          6|   346|      NULL|    NULL|           20333|      103|              20328|            5|              -1|        -1|          20348|      345|                -1|             4|             1|        NULL|            0| 2013-04-20|\n",
      "|  598028|     12|      3|         1|           5|           2|                       5| No Extras|          1|         0|    0|      0|   0|      0|      0|            0|Not Applicable|  NULL|  NULL|   NULL|NULL|        NULL|   NULL|             NULL|      NULL|            NULL|         NULL|2013-04-20|  2013|    104|          6|   346|      NULL|    NULL|           20333|      103|              20328|            5|              -1|        -1|          20348|      345|                -1|             4|             1|        NULL|            0| 2013-04-20|\n",
      "|  598028|     12|      4|         1|           5|           2|                       3| No Extras|          1|         0|    0|      0|   0|      0|      0|            0|Not Applicable|  NULL|  NULL|   NULL|NULL|        NULL|   NULL|             NULL|      NULL|            NULL|         NULL|2013-04-20|  2013|      6|        104|   346|      NULL|    NULL|           20328|        5|              20333|          103|              -1|        -1|          20348|      345|                -1|             4|             1|        NULL|            0| 2013-04-20|\n",
      "|  598028|     12|      5|         1|           5|           2|                       5| No Extras|          0|         0|    0|      0|   0|      0|      0|            0|Not Applicable|  NULL|  NULL|   NULL|NULL|        NULL|   NULL|             NULL|      NULL|            NULL|         NULL|2013-04-20|  2013|    104|          6|   346|      NULL|    NULL|           20333|      103|              20328|            5|              -1|        -1|          20348|      345|                -1|             4|             1|        NULL|            0| 2013-04-20|\n",
      "|  598028|     12|      6|         1|           5|           2|                       5| No Extras|          1|         0|    0|      0|   0|      0|      0|            0|Not Applicable|  NULL|  NULL|   NULL|NULL|        NULL|   NULL|             NULL|      NULL|            NULL|         NULL|2013-04-20|  2013|    104|          6|   346|      NULL|    NULL|           20333|      103|              20328|            5|              -1|        -1|          20348|      345|                -1|             4|             1|        NULL|            0| 2013-04-20|\n",
      "|  598028|     11|      1|         1|           5|           2|                       5| No Extras|          0|         0|    0|      0|   0|      0|      0|            0|Not Applicable|  NULL|  NULL|   NULL|NULL|        NULL|   NULL|             NULL|      NULL|            NULL|         NULL|2013-04-20|  2013|    104|          6|    83|      NULL|    NULL|           20333|      103|              20328|            5|              -1|        -1|          20343|       82|                -1|             4|             1|        NULL|            0| 2013-04-20|\n",
      "+--------+-------+-------+----------+------------+------------+------------------------+----------+-----------+----------+-----+-------+----+-------+-------+-------------+--------------+------+------+-------+----+------------+-------+-----------------+----------+----------------+-------------+----------+------+-------+-----------+------+----------+--------+----------------+---------+-------------------+-------------+----------------+----------+---------------+---------+------------------+--------------+--------------+------------+-------------+-----------+\n",
      "only showing top 20 rows\n",
      "\n"
     ]
    }
   ],
   "source": [
    "ball_by_ball_df = spark.read.schema(ball_by_ball_schema).csv('files/Ball_By_Ball.csv', header=True)\n",
    "ball_by_ball_df = ball_by_ball_df.withColumn(\"match_date\",f.to_date(ball_by_ball_df['match_date'],\"M/d/yyyy\")).withColumn(\"matchdatesk\",f.to_date(ball_by_ball_df['matchdatesk'],\"yyyyMMdd\"))\n",
    "ball_by_ball_df.show()"
   ]
  },
  {
   "cell_type": "code",
   "execution_count": 9,
   "metadata": {},
   "outputs": [],
   "source": [
    "match_schema = StructType([\n",
    "       StructField(\"match_sk\", IntegerType(), True),\n",
    "       StructField(\"match_id\", IntegerType(), True),\n",
    "       StructField(\"team1\", StringType(), True),\n",
    "       StructField(\"team2\", StringType(), True),\n",
    "       StructField(\"match_date\", StringType(), True),\n",
    "       StructField(\"season_year\", IntegerType(), True),\n",
    "       StructField(\"venue_name\", StringType(), True),\n",
    "       StructField(\"city_name\", StringType(), True),\n",
    "       StructField(\"country_name\", StringType(), True),\n",
    "       StructField(\"toss_winner\", StringType(), True),\n",
    "       StructField(\"match_winner\", StringType(), True),\n",
    "       StructField(\"toss_name\", StringType(), True),\n",
    "       StructField(\"win_type\", StringType(), True),\n",
    "       StructField(\"outcome_type\", StringType(), True),\n",
    "       StructField(\"manofmach\", StringType(), True),\n",
    "       StructField(\"win_margin\", IntegerType(), True),\n",
    "       StructField(\"country_id\", IntegerType(), True)\n",
    "])"
   ]
  },
  {
   "cell_type": "code",
   "execution_count": 10,
   "metadata": {},
   "outputs": [
    {
     "name": "stdout",
     "output_type": "stream",
     "text": [
      "+--------+--------+--------------------+--------------------+----------+-----------+--------------------+----------+------------+--------------------+--------------------+---------+--------+------------+-------------+----------+----------+\n",
      "|match_sk|match_id|               team1|               team2|match_date|season_year|          venue_name| city_name|country_name|         toss_winner|        match_winner|toss_name|win_type|outcome_type|    manofmach|win_margin|country_id|\n",
      "+--------+--------+--------------------+--------------------+----------+-----------+--------------------+----------+------------+--------------------+--------------------+---------+--------+------------+-------------+----------+----------+\n",
      "|       0|  335987|Royal Challengers...|Kolkata Knight Ri...|2008-04-18|       2008|M Chinnaswamy Sta...| Bangalore|       India|Royal Challengers...|Kolkata Knight Ri...|    field|    runs|      Result|  BB McCullum|       140|         1|\n",
      "|       1|  335988|     Kings XI Punjab| Chennai Super Kings|2008-04-19|       2008|Punjab Cricket As...|Chandigarh|       India| Chennai Super Kings| Chennai Super Kings|      bat|    runs|      Result|   MEK Hussey|        33|         1|\n",
      "|       2|  335989|    Delhi Daredevils|    Rajasthan Royals|2008-04-19|       2008|    Feroz Shah Kotla|     Delhi|       India|    Rajasthan Royals|    Delhi Daredevils|      bat| wickets|      Result|  MF Maharoof|         9|         1|\n",
      "|       3|  335990|      Mumbai Indians|Royal Challengers...|2008-04-20|       2008|    Wankhede Stadium|    Mumbai|       India|      Mumbai Indians|Royal Challengers...|      bat| wickets|      Result|   MV Boucher|         5|         1|\n",
      "|       4|  335991|Kolkata Knight Ri...|     Deccan Chargers|2008-04-20|       2008|        Eden Gardens|   Kolkata|       India|     Deccan Chargers|Kolkata Knight Ri...|      bat| wickets|      Result|    DJ Hussey|         5|         1|\n",
      "|       5|  335992|    Rajasthan Royals|     Kings XI Punjab|2008-04-21|       2008|Sawai Mansingh St...|    Jaipur|       India|     Kings XI Punjab|    Rajasthan Royals|      bat| wickets|      Result|    SR Watson|         6|         1|\n",
      "|       6|  335993|     Deccan Chargers|    Delhi Daredevils|2008-04-22|       2008|Rajiv Gandhi Inte...| Hyderabad|       India|     Deccan Chargers|    Delhi Daredevils|      bat| wickets|      Result|     V Sehwag|         9|         1|\n",
      "|       7|  335994| Chennai Super Kings|      Mumbai Indians|2008-04-23|       2008|MA Chidambaram St...|   Chennai|       India|      Mumbai Indians| Chennai Super Kings|    field|    runs|      Result|    ML Hayden|         6|         1|\n",
      "|       8|  335995|     Deccan Chargers|    Rajasthan Royals|2008-04-24|       2008|Rajiv Gandhi Inte...| Hyderabad|       India|    Rajasthan Royals|    Rajasthan Royals|    field| wickets|      Result|    YK Pathan|         3|         1|\n",
      "|       9|  335996|     Kings XI Punjab|      Mumbai Indians|2008-04-25|       2008|Punjab Cricket As...|Chandigarh|       India|      Mumbai Indians|     Kings XI Punjab|    field|    runs|      Result|KC Sangakkara|        66|         1|\n",
      "|      10|  335997|Royal Challengers...|    Rajasthan Royals|2008-04-26|       2008|M Chinnaswamy Sta...| Bangalore|       India|    Rajasthan Royals|    Rajasthan Royals|    field| wickets|      Result|    SR Watson|         7|         1|\n",
      "|      11|  335998| Chennai Super Kings|Kolkata Knight Ri...|2008-04-26|       2008|MA Chidambaram St...|   Chennai|       India|Kolkata Knight Ri...| Chennai Super Kings|      bat| wickets|      Result|     JDP Oram|         9|         1|\n",
      "|      12|  335999|      Mumbai Indians|     Deccan Chargers|2008-04-27|       2008|Dr DY Patil Sport...|    Mumbai|       India|     Deccan Chargers|     Deccan Chargers|    field| wickets|      Result| AC Gilchrist|        10|         1|\n",
      "|      13|  336000|     Kings XI Punjab|    Delhi Daredevils|2008-04-27|       2008|Punjab Cricket As...|Chandigarh|       India|    Delhi Daredevils|     Kings XI Punjab|      bat| wickets|      Result|    SM Katich|         4|         1|\n",
      "|      14|  336001|Royal Challengers...| Chennai Super Kings|2008-04-28|       2008|M Chinnaswamy Sta...| Bangalore|       India| Chennai Super Kings| Chennai Super Kings|      bat|    runs|      Result|     MS Dhoni|        13|         1|\n",
      "|      15|  336002|Kolkata Knight Ri...|      Mumbai Indians|2008-04-29|       2008|        Eden Gardens|   Kolkata|       India|Kolkata Knight Ri...|      Mumbai Indians|      bat| wickets|      Result|ST Jayasuriya|         7|         1|\n",
      "|      16|  336003|    Delhi Daredevils|Royal Challengers...|2008-04-30|       2008|    Feroz Shah Kotla|     Delhi|       India|Royal Challengers...|    Delhi Daredevils|    field|    runs|      Result|   GD McGrath|        10|         1|\n",
      "|      17|  336004|     Deccan Chargers|     Kings XI Punjab|2008-05-01|       2008|Rajiv Gandhi Inte...| Hyderabad|       India|     Kings XI Punjab|     Kings XI Punjab|    field| wickets|      Result|     SE Marsh|         7|         1|\n",
      "|      18|  336005|    Rajasthan Royals|Kolkata Knight Ri...|2008-05-01|       2008|Sawai Mansingh St...|    Jaipur|       India|    Rajasthan Royals|    Rajasthan Royals|      bat|    runs|      Result|  SA Asnodkar|        45|         1|\n",
      "|      19|  336006| Chennai Super Kings|    Delhi Daredevils|2008-05-02|       2008|MA Chidambaram St...|   Chennai|       India| Chennai Super Kings|    Delhi Daredevils|      bat| wickets|      Result|     V Sehwag|         8|         1|\n",
      "+--------+--------+--------------------+--------------------+----------+-----------+--------------------+----------+------------+--------------------+--------------------+---------+--------+------------+-------------+----------+----------+\n",
      "only showing top 20 rows\n",
      "\n"
     ]
    }
   ],
   "source": [
    "match_df = spark.read.schema(match_schema).csv('files/Match.csv',header=True)\n",
    "match_df = match_df.withColumn(\"match_date\",f.to_date(match_df['match_date'],\"M/d/yyyy\"))\n",
    "match_df.show()"
   ]
  },
  {
   "cell_type": "code",
   "execution_count": 11,
   "metadata": {},
   "outputs": [],
   "source": [
    "player_schema = StructType([\n",
    "    StructField(\"player_sk\", IntegerType(), True),\n",
    "    StructField(\"player_id\", IntegerType(), True),\n",
    "    StructField(\"player_name\", StringType(), True),\n",
    "    StructField(\"dob\", StringType(), True),\n",
    "    StructField(\"batting_hand\", StringType(), True),\n",
    "    StructField(\"bowling_skill\", StringType(), True),\n",
    "    StructField(\"country_name\", StringType(), True)\n",
    "])"
   ]
  },
  {
   "cell_type": "code",
   "execution_count": 12,
   "metadata": {},
   "outputs": [
    {
     "name": "stdout",
     "output_type": "stream",
     "text": [
      "+---------+---------+---------------+----------+--------------+--------------------+------------+\n",
      "|player_sk|player_id|    player_name|       dob|  batting_hand|       bowling_skill|country_name|\n",
      "+---------+---------+---------------+----------+--------------+--------------------+------------+\n",
      "|        0|        1|     SC Ganguly|1972-07-08| Left-hand bat|    Right-arm medium|       India|\n",
      "|        1|        2|    BB McCullum|1981-09-27|Right-hand bat|    Right-arm medium| New Zealand|\n",
      "|        2|        3|     RT Ponting|1974-12-19|Right-hand bat|    Right-arm medium|   Australia|\n",
      "|        3|        4|      DJ Hussey|1977-07-15|Right-hand bat|  Right-arm offbreak|   Australia|\n",
      "|        4|        5|Mohammad Hafeez|1980-10-17|Right-hand bat|  Right-arm offbreak|    Pakistan|\n",
      "|        5|        6|       R Dravid|1973-01-11|Right-hand bat|  Right-arm offbreak|       India|\n",
      "|        6|        7|       W Jaffer|1978-02-16|Right-hand bat|  Right-arm offbreak|       India|\n",
      "|        7|        8|        V Kohli|1988-11-05|Right-hand bat|    Right-arm medium|       India|\n",
      "|        8|        9|      JH Kallis|1975-10-16|Right-hand bat|Right-arm fast-me...|South Africa|\n",
      "|        9|       10|       CL White|1983-08-18|Right-hand bat|     Legbreak googly|   Australia|\n",
      "|       10|       11|     MV Boucher|1976-12-03|Right-hand bat|    Right-arm medium|South Africa|\n",
      "|       11|       12|        B Akhil|1977-10-07|Right-hand bat|Right-arm medium-...|       India|\n",
      "|       12|       13|      AA Noffke|1977-04-30|Right-hand bat|Right-arm fast-me...|   Australia|\n",
      "|       13|       14|        P Kumar|1986-10-02|Right-hand bat|    Right-arm medium|       India|\n",
      "|       14|       15|         Z Khan|1978-10-07|Right-hand bat|Left-arm fast-medium|       India|\n",
      "|       15|       16|       SB Joshi|1970-06-06| Left-hand bat|Slow left-arm ort...|       India|\n",
      "|       16|       17|       PA Patel|1985-03-09| Left-hand bat|                 N/A|       India|\n",
      "|       17|       18|      ML Hayden|1971-10-29| Left-hand bat|    Right-arm medium|   Australia|\n",
      "|       18|       19|     MEK Hussey|1975-05-27| Left-hand bat|    Right-arm medium|   Australia|\n",
      "|       19|       20|       MS Dhoni|1981-07-07|Right-hand bat|    Right-arm medium|       India|\n",
      "+---------+---------+---------------+----------+--------------+--------------------+------------+\n",
      "only showing top 20 rows\n",
      "\n"
     ]
    }
   ],
   "source": [
    "player_df = spark.read.schema(player_schema).csv('files/Player.csv',header=True)\n",
    "player_df = player_df.withColumn(\"dob\",f.to_date(player_df['dob'],'M/d/yyyy'))\n",
    "player_df.show()"
   ]
  },
  {
   "cell_type": "code",
   "execution_count": 13,
   "metadata": {},
   "outputs": [],
   "source": [
    "player_match_schema = StructType([\n",
    "    StructField(\"player_match_sk\", IntegerType(), True),\n",
    "    StructField(\"playermatch_key\", DecimalType(), True),\n",
    "    StructField(\"match_id\", IntegerType(), True),\n",
    "    StructField(\"player_id\", IntegerType(), True),\n",
    "    StructField(\"player_name\", StringType(), True),\n",
    "    StructField(\"dob\", DateType(), True),\n",
    "    StructField(\"batting_hand\", StringType(), True),\n",
    "    StructField(\"bowling_skill\", StringType(), True),\n",
    "    StructField(\"country_name\", StringType(), True),\n",
    "    StructField(\"role_desc\", StringType(), True),\n",
    "    StructField(\"player_team\", StringType(), True),\n",
    "    StructField(\"opposit_team\", StringType(), True),\n",
    "    StructField(\"season_year\", IntegerType(), True),\n",
    "    StructField(\"is_manofthematch\", BooleanType(), True),\n",
    "    StructField(\"age_as_on_match\", IntegerType(), True),\n",
    "    StructField(\"isplayers_team_won\", BooleanType(), True),\n",
    "    StructField(\"batting_status\", StringType(), True),\n",
    "    StructField(\"bowling_status\", StringType(), True),\n",
    "    StructField(\"player_captain\", StringType(), True),\n",
    "    StructField(\"opposit_captain\", StringType(), True),\n",
    "    StructField(\"player_keeper\", StringType(), True),\n",
    "    StructField(\"opposit_keeper\", StringType(), True)\n",
    "])"
   ]
  },
  {
   "cell_type": "code",
   "execution_count": 14,
   "metadata": {},
   "outputs": [
    {
     "name": "stdout",
     "output_type": "stream",
     "text": [
      "+---------------+---------------+--------+---------+---------------+----+--------------+--------------------+------------+---------+--------------------+--------------------+-----------+----------------+---------------+------------------+--------------+--------------+--------------+---------------+-------------+--------------+\n",
      "|player_match_sk|playermatch_key|match_id|player_id|    player_name| dob|  batting_hand|       bowling_skill|country_name|role_desc|         player_team|        opposit_team|season_year|is_manofthematch|age_as_on_match|isplayers_team_won|batting_status|bowling_status|player_captain|opposit_captain|player_keeper|opposit_keeper|\n",
      "+---------------+---------------+--------+---------+---------------+----+--------------+--------------------+------------+---------+--------------------+--------------------+-----------+----------------+---------------+------------------+--------------+--------------+--------------+---------------+-------------+--------------+\n",
      "|             -1|             -1|      -1|       -1|            N/A|NULL|          NULL|                NULL|        NULL|     NULL|                NULL|                NULL|       NULL|            NULL|           NULL|              NULL|          NULL|          NULL|          NULL|           NULL|         NULL|          NULL|\n",
      "|          12694|           NULL|  335987|        6|       R Dravid|NULL|Right-hand bat|  Right-arm offbreak|       India|  Captain|Royal Challengers...|Kolkata Knight Ri...|       2008|            NULL|             35|              NULL|          NULL|          NULL|      R Dravid|     SC Ganguly|   MV Boucher|       WP Saha|\n",
      "|          12695|           NULL|  335987|        7|       W Jaffer|NULL|Right-hand bat|  Right-arm offbreak|       India|   Player|Royal Challengers...|Kolkata Knight Ri...|       2008|            NULL|             30|              NULL|          NULL|          NULL|      R Dravid|     SC Ganguly|   MV Boucher|       WP Saha|\n",
      "|          12696|           NULL|  335987|        8|        V Kohli|NULL|Right-hand bat|    Right-arm medium|       India|   Player|Royal Challengers...|Kolkata Knight Ri...|       2008|            NULL|             20|              NULL|          NULL|          NULL|      R Dravid|     SC Ganguly|   MV Boucher|       WP Saha|\n",
      "|          12697|           NULL|  335987|        9|      JH Kallis|NULL|Right-hand bat|Right-arm fast-me...|South Africa|   Player|Royal Challengers...|Kolkata Knight Ri...|       2008|            NULL|             33|              NULL|          NULL|          NULL|      R Dravid|     SC Ganguly|   MV Boucher|       WP Saha|\n",
      "|          12698|           NULL|  335987|       10|       CL White|NULL|Right-hand bat|     Legbreak googly|   Australia|   Player|Royal Challengers...|Kolkata Knight Ri...|       2008|            NULL|             25|              NULL|          NULL|          NULL|      R Dravid|     SC Ganguly|   MV Boucher|       WP Saha|\n",
      "|          12699|           NULL|  335987|       11|     MV Boucher|NULL|Right-hand bat|    Right-arm medium|South Africa|   Keeper|Royal Challengers...|Kolkata Knight Ri...|       2008|            NULL|             32|              NULL|          NULL|          NULL|      R Dravid|     SC Ganguly|   MV Boucher|       WP Saha|\n",
      "|          12700|           NULL|  335987|       12|        B Akhil|NULL|Right-hand bat|Right-arm medium-...|       India|   Player|Royal Challengers...|Kolkata Knight Ri...|       2008|            NULL|             31|              NULL|          NULL|          NULL|      R Dravid|     SC Ganguly|   MV Boucher|       WP Saha|\n",
      "|          12701|           NULL|  335987|       13|      AA Noffke|NULL|Right-hand bat|Right-arm fast-me...|   Australia|   Player|Royal Challengers...|Kolkata Knight Ri...|       2008|            NULL|             31|              NULL|          NULL|          NULL|      R Dravid|     SC Ganguly|   MV Boucher|       WP Saha|\n",
      "|          12702|           NULL|  335987|       14|        P Kumar|NULL|Right-hand bat|    Right-arm medium|       India|   Player|Royal Challengers...|Kolkata Knight Ri...|       2008|            NULL|             22|              NULL|          NULL|          NULL|      R Dravid|     SC Ganguly|   MV Boucher|       WP Saha|\n",
      "|          12703|           NULL|  335987|       15|         Z Khan|NULL|Right-hand bat|Left-arm fast-medium|       India|   Player|Royal Challengers...|Kolkata Knight Ri...|       2008|            NULL|             30|              NULL|          NULL|          NULL|      R Dravid|     SC Ganguly|   MV Boucher|       WP Saha|\n",
      "|          12704|           NULL|  335987|       16|       SB Joshi|NULL| Left-hand bat|Slow left-arm ort...|       India|   Player|Royal Challengers...|Kolkata Knight Ri...|       2008|            NULL|             38|              NULL|          NULL|          NULL|      R Dravid|     SC Ganguly|   MV Boucher|       WP Saha|\n",
      "|          12705|           NULL|  335987|        1|     SC Ganguly|NULL| Left-hand bat|    Right-arm medium|       India|  Captain|Kolkata Knight Ri...|Royal Challengers...|       2008|            NULL|             36|              NULL|          NULL|          NULL|    SC Ganguly|       R Dravid|      WP Saha|    MV Boucher|\n",
      "|          12706|           NULL|  335987|        2|    BB McCullum|NULL|Right-hand bat|    Right-arm medium| New Zealand|   Player|Kolkata Knight Ri...|Royal Challengers...|       2008|            NULL|             27|              NULL|          NULL|          NULL|    SC Ganguly|       R Dravid|      WP Saha|    MV Boucher|\n",
      "|          12707|           NULL|  335987|        3|     RT Ponting|NULL|Right-hand bat|    Right-arm medium|   Australia|   Player|Kolkata Knight Ri...|Royal Challengers...|       2008|            NULL|             34|              NULL|          NULL|          NULL|    SC Ganguly|       R Dravid|      WP Saha|    MV Boucher|\n",
      "|          12708|           NULL|  335987|        4|      DJ Hussey|NULL|Right-hand bat|  Right-arm offbreak|   Australia|   Player|Kolkata Knight Ri...|Royal Challengers...|       2008|            NULL|             31|              NULL|          NULL|          NULL|    SC Ganguly|       R Dravid|      WP Saha|    MV Boucher|\n",
      "|          12709|           NULL|  335987|        5|Mohammad Hafeez|NULL|Right-hand bat|  Right-arm offbreak|    Pakistan|   Player|Kolkata Knight Ri...|Royal Challengers...|       2008|            NULL|             28|              NULL|          NULL|          NULL|    SC Ganguly|       R Dravid|      WP Saha|    MV Boucher|\n",
      "|          12710|           NULL|  335987|       62|        WP Saha|NULL|Right-hand bat|                 N/A|       India|   Keeper|Kolkata Knight Ri...|Royal Challengers...|       2008|            NULL|             24|              NULL|          NULL|          NULL|    SC Ganguly|       R Dravid|      WP Saha|    MV Boucher|\n",
      "|          12711|           NULL|  335987|       63|      LR Shukla|NULL|Right-hand bat|    Right-arm medium|       India|   Player|Kolkata Knight Ri...|Royal Challengers...|       2008|            NULL|             27|              NULL|          NULL|          NULL|    SC Ganguly|       R Dravid|      WP Saha|    MV Boucher|\n",
      "|          12712|           NULL|  335987|       82|     AB Agarkar|NULL|Right-hand bat|      Right-arm fast|       India|   Player|Kolkata Knight Ri...|Royal Challengers...|       2008|            NULL|             31|              NULL|          NULL|          NULL|    SC Ganguly|       R Dravid|      WP Saha|    MV Boucher|\n",
      "+---------------+---------------+--------+---------+---------------+----+--------------+--------------------+------------+---------+--------------------+--------------------+-----------+----------------+---------------+------------------+--------------+--------------+--------------+---------------+-------------+--------------+\n",
      "only showing top 20 rows\n",
      "\n"
     ]
    }
   ],
   "source": [
    "player_match_df = spark.read.schema(player_match_schema).csv('files/Player_match.csv',header=True)\n",
    "player_match_df.show()"
   ]
  },
  {
   "cell_type": "code",
   "execution_count": 15,
   "metadata": {},
   "outputs": [],
   "source": [
    "team_schema = StructType([\n",
    "    StructField(\"team_sk\",IntegerType(),True),\n",
    "    StructField(\"team_id\",IntegerType(),True),\n",
    "    StructField(\"team_name\",StringType(),True)\n",
    "])"
   ]
  },
  {
   "cell_type": "code",
   "execution_count": 16,
   "metadata": {},
   "outputs": [],
   "source": [
    "team_df = spark.read.schema(team_schema).csv('files/Team.csv',header=True)"
   ]
  },
  {
   "cell_type": "markdown",
   "metadata": {},
   "source": [
    "Transformation"
   ]
  },
  {
   "cell_type": "code",
   "execution_count": 17,
   "metadata": {},
   "outputs": [
    {
     "name": "stdout",
     "output_type": "stream",
     "text": [
      "+--------+-------+-------+----------+------------+------------+------------------------+----------+-----------+----------+-----+-------+----+-------+-------+-------------+--------------+------+------+-------+----+------------+-------+-----------------+----------+----------------+-------------+----------+------+-------+-----------+------+----------+--------+----------------+---------+-------------------+-------------+----------------+----------+---------------+---------+------------------+--------------+--------------+------------+-------------+-----------+\n",
      "|match_id|over_id|ball_id|innings_no|team_batting|team_bowling|striker_batting_position|extra_type|runs_scored|extra_runs|wides|legbyes|byes|noballs|penalty|bowler_extras|      out_type|caught|bowled|run_out| lbw|retired_hurt|stumped|caught_and_bowled|hit_wicket|obstructingfeild|bowler_wicket|match_date|season|striker|non_striker|bowler|player_out|fielders|striker_match_sk|strikersk|nonstriker_match_sk|nonstriker_sk|fielder_match_sk|fielder_sk|bowler_match_sk|bowler_sk|playerout_match_sk|battingteam_sk|bowlingteam_sk|keeper_catch|player_out_sk|matchdatesk|\n",
      "+--------+-------+-------+----------+------------+------------+------------------------+----------+-----------+----------+-----+-------+----+-------+-------+-------------+--------------+------+------+-------+----+------------+-------+-----------------+----------+----------------+-------------+----------+------+-------+-----------+------+----------+--------+----------------+---------+-------------------+-------------+----------------+----------+---------------+---------+------------------+--------------+--------------+------------+-------------+-----------+\n",
      "|  598028|     15|      6|         1|           5|           2|                       6| No Extras|          4|         0|    0|      0|   0|      0|      0|            0|Not Applicable|  NULL|  NULL|   NULL|NULL|        NULL|   NULL|             NULL|      NULL|            NULL|         NULL|2013-04-20|  2013|    277|        104|    83|      NULL|    NULL|           20336|      276|              20333|          103|              -1|        -1|          20343|       82|                -1|             4|             1|        NULL|            0| 2013-04-20|\n",
      "|  598028|     14|      1|         1|           5|           2|                       5| No Extras|          1|         0|    0|      0|   0|      0|      0|            0|Not Applicable|  NULL|  NULL|   NULL|NULL|        NULL|   NULL|             NULL|      NULL|            NULL|         NULL|2013-04-20|  2013|    104|          6|   346|      NULL|    NULL|           20333|      103|              20328|            5|              -1|        -1|          20348|      345|                -1|             4|             1|        NULL|            0| 2013-04-20|\n",
      "|  598028|     14|      2|         1|           5|           2|                       3| No Extras|          1|         0|    0|      0|   0|      0|      0|            0|Not Applicable|  NULL|  NULL|   NULL|NULL|        NULL|   NULL|             NULL|      NULL|            NULL|         NULL|2013-04-20|  2013|      6|        104|   346|      NULL|    NULL|           20328|        5|              20333|          103|              -1|        -1|          20348|      345|                -1|             4|             1|        NULL|            0| 2013-04-20|\n",
      "|  598028|     14|      3|         1|           5|           2|                       5| No Extras|          1|         0|    0|      0|   0|      0|      0|            0|Not Applicable|  NULL|  NULL|   NULL|NULL|        NULL|   NULL|             NULL|      NULL|            NULL|         NULL|2013-04-20|  2013|    104|          6|   346|      NULL|    NULL|           20333|      103|              20328|            5|              -1|        -1|          20348|      345|                -1|             4|             1|        NULL|            0| 2013-04-20|\n",
      "|  598028|     14|      4|         1|           5|           2|                       3| No Extras|          0|         0|    0|      0|   0|      0|      0|            0|Not Applicable|  NULL|  NULL|   NULL|NULL|        NULL|   NULL|             NULL|      NULL|            NULL|         NULL|2013-04-20|  2013|      6|        104|   346|      NULL|    NULL|           20328|        5|              20333|          103|              -1|        -1|          20348|      345|                -1|             4|             1|        NULL|            0| 2013-04-20|\n",
      "+--------+-------+-------+----------+------------+------------+------------------------+----------+-----------+----------+-----+-------+----+-------+-------+-------------+--------------+------+------+-------+----+------------+-------+-----------------+----------+----------------+-------------+----------+------+-------+-----------+------+----------+--------+----------------+---------+-------------------+-------------+----------------+----------+---------------+---------+------------------+--------------+--------------+------------+-------------+-----------+\n",
      "only showing top 5 rows\n",
      "\n"
     ]
    }
   ],
   "source": [
    "ball_by_ball_df.show(5)"
   ]
  },
  {
   "cell_type": "code",
   "execution_count": 18,
   "metadata": {},
   "outputs": [],
   "source": [
    "#Excluding Wide and NoBalls\n",
    "ball_by_ball_df = ball_by_ball_df.filter((f.col(\"wides\") == 0) & (f.col(\"noballs\") == 0))"
   ]
  },
  {
   "cell_type": "code",
   "execution_count": 19,
   "metadata": {},
   "outputs": [],
   "source": [
    "total_and_avg_runs = ball_by_ball_df.groupBy([\"match_id\",\"innings_no\"]).agg(\n",
    "    f.sum(\"runs_scored\").alias(\"Total Runs Scored\"),\n",
    "    f.avg(\"runs_scored\").alias(\"Avg Run Scored\")\n",
    ")"
   ]
  },
  {
   "cell_type": "code",
   "execution_count": 20,
   "metadata": {},
   "outputs": [],
   "source": [
    "#Window Function\n",
    "windowSpec = Window.partitionBy(\"match_id\",\"innings_no\").orderBy(\"over_id\")"
   ]
  },
  {
   "cell_type": "code",
   "execution_count": 21,
   "metadata": {},
   "outputs": [],
   "source": [
    "ball_by_ball_df = ball_by_ball_df.withColumn(\n",
    "    \"running_total_runs\",\n",
    "    f.sum(\"runs_scored\").over(windowSpec)\n",
    ")"
   ]
  },
  {
   "cell_type": "code",
   "execution_count": 22,
   "metadata": {},
   "outputs": [],
   "source": [
    "ball_by_ball_df = ball_by_ball_df.withColumn(\n",
    "    \"high_impact_ball\",f.when((f.col(\"runs_scored\") + f.col(\"extra_runs\") > 6) | (f.col(\"bowler_wicket\") == True), True).otherwise(False))"
   ]
  },
  {
   "cell_type": "code",
   "execution_count": 23,
   "metadata": {},
   "outputs": [
    {
     "name": "stdout",
     "output_type": "stream",
     "text": [
      "+--------+--------+--------------------+--------------------+----------+-----------+--------------------+----------+------------+--------------------+--------------------+---------+--------+------------+-------------+----------+----------+----+-----+---+-------------------+-----------------+\n",
      "|match_sk|match_id|               team1|               team2|match_date|season_year|          venue_name| city_name|country_name|         toss_winner|        match_winner|toss_name|win_type|outcome_type|    manofmach|win_margin|country_id|Year|Month|Day|win_mragin_category|toss_match_winner|\n",
      "+--------+--------+--------------------+--------------------+----------+-----------+--------------------+----------+------------+--------------------+--------------------+---------+--------+------------+-------------+----------+----------+----+-----+---+-------------------+-----------------+\n",
      "|       0|  335987|Royal Challengers...|Kolkata Knight Ri...|2008-04-18|       2008|M Chinnaswamy Sta...| Bangalore|       India|Royal Challengers...|Kolkata Knight Ri...|    field|    runs|      Result|  BB McCullum|       140|         1|2008|    4| 18|               High|               No|\n",
      "|       1|  335988|     Kings XI Punjab| Chennai Super Kings|2008-04-19|       2008|Punjab Cricket As...|Chandigarh|       India| Chennai Super Kings| Chennai Super Kings|      bat|    runs|      Result|   MEK Hussey|        33|         1|2008|    4| 19|                Low|              Yes|\n",
      "|       2|  335989|    Delhi Daredevils|    Rajasthan Royals|2008-04-19|       2008|    Feroz Shah Kotla|     Delhi|       India|    Rajasthan Royals|    Delhi Daredevils|      bat| wickets|      Result|  MF Maharoof|         9|         1|2008|    4| 19|                Low|               No|\n",
      "|       3|  335990|      Mumbai Indians|Royal Challengers...|2008-04-20|       2008|    Wankhede Stadium|    Mumbai|       India|      Mumbai Indians|Royal Challengers...|      bat| wickets|      Result|   MV Boucher|         5|         1|2008|    4| 20|                Low|               No|\n",
      "|       4|  335991|Kolkata Knight Ri...|     Deccan Chargers|2008-04-20|       2008|        Eden Gardens|   Kolkata|       India|     Deccan Chargers|Kolkata Knight Ri...|      bat| wickets|      Result|    DJ Hussey|         5|         1|2008|    4| 20|                Low|               No|\n",
      "|       5|  335992|    Rajasthan Royals|     Kings XI Punjab|2008-04-21|       2008|Sawai Mansingh St...|    Jaipur|       India|     Kings XI Punjab|    Rajasthan Royals|      bat| wickets|      Result|    SR Watson|         6|         1|2008|    4| 21|                Low|               No|\n",
      "|       6|  335993|     Deccan Chargers|    Delhi Daredevils|2008-04-22|       2008|Rajiv Gandhi Inte...| Hyderabad|       India|     Deccan Chargers|    Delhi Daredevils|      bat| wickets|      Result|     V Sehwag|         9|         1|2008|    4| 22|                Low|               No|\n",
      "|       7|  335994| Chennai Super Kings|      Mumbai Indians|2008-04-23|       2008|MA Chidambaram St...|   Chennai|       India|      Mumbai Indians| Chennai Super Kings|    field|    runs|      Result|    ML Hayden|         6|         1|2008|    4| 23|                Low|               No|\n",
      "|       8|  335995|     Deccan Chargers|    Rajasthan Royals|2008-04-24|       2008|Rajiv Gandhi Inte...| Hyderabad|       India|    Rajasthan Royals|    Rajasthan Royals|    field| wickets|      Result|    YK Pathan|         3|         1|2008|    4| 24|                Low|              Yes|\n",
      "|       9|  335996|     Kings XI Punjab|      Mumbai Indians|2008-04-25|       2008|Punjab Cricket As...|Chandigarh|       India|      Mumbai Indians|     Kings XI Punjab|    field|    runs|      Result|KC Sangakkara|        66|         1|2008|    4| 25|             Medium|               No|\n",
      "|      10|  335997|Royal Challengers...|    Rajasthan Royals|2008-04-26|       2008|M Chinnaswamy Sta...| Bangalore|       India|    Rajasthan Royals|    Rajasthan Royals|    field| wickets|      Result|    SR Watson|         7|         1|2008|    4| 26|                Low|              Yes|\n",
      "|      11|  335998| Chennai Super Kings|Kolkata Knight Ri...|2008-04-26|       2008|MA Chidambaram St...|   Chennai|       India|Kolkata Knight Ri...| Chennai Super Kings|      bat| wickets|      Result|     JDP Oram|         9|         1|2008|    4| 26|                Low|               No|\n",
      "|      12|  335999|      Mumbai Indians|     Deccan Chargers|2008-04-27|       2008|Dr DY Patil Sport...|    Mumbai|       India|     Deccan Chargers|     Deccan Chargers|    field| wickets|      Result| AC Gilchrist|        10|         1|2008|    4| 27|                Low|              Yes|\n",
      "|      13|  336000|     Kings XI Punjab|    Delhi Daredevils|2008-04-27|       2008|Punjab Cricket As...|Chandigarh|       India|    Delhi Daredevils|     Kings XI Punjab|      bat| wickets|      Result|    SM Katich|         4|         1|2008|    4| 27|                Low|               No|\n",
      "|      14|  336001|Royal Challengers...| Chennai Super Kings|2008-04-28|       2008|M Chinnaswamy Sta...| Bangalore|       India| Chennai Super Kings| Chennai Super Kings|      bat|    runs|      Result|     MS Dhoni|        13|         1|2008|    4| 28|                Low|              Yes|\n",
      "|      15|  336002|Kolkata Knight Ri...|      Mumbai Indians|2008-04-29|       2008|        Eden Gardens|   Kolkata|       India|Kolkata Knight Ri...|      Mumbai Indians|      bat| wickets|      Result|ST Jayasuriya|         7|         1|2008|    4| 29|                Low|               No|\n",
      "|      16|  336003|    Delhi Daredevils|Royal Challengers...|2008-04-30|       2008|    Feroz Shah Kotla|     Delhi|       India|Royal Challengers...|    Delhi Daredevils|    field|    runs|      Result|   GD McGrath|        10|         1|2008|    4| 30|                Low|               No|\n",
      "|      17|  336004|     Deccan Chargers|     Kings XI Punjab|2008-05-01|       2008|Rajiv Gandhi Inte...| Hyderabad|       India|     Kings XI Punjab|     Kings XI Punjab|    field| wickets|      Result|     SE Marsh|         7|         1|2008|    5|  1|                Low|              Yes|\n",
      "|      18|  336005|    Rajasthan Royals|Kolkata Knight Ri...|2008-05-01|       2008|Sawai Mansingh St...|    Jaipur|       India|    Rajasthan Royals|    Rajasthan Royals|      bat|    runs|      Result|  SA Asnodkar|        45|         1|2008|    5|  1|                Low|              Yes|\n",
      "|      19|  336006| Chennai Super Kings|    Delhi Daredevils|2008-05-02|       2008|MA Chidambaram St...|   Chennai|       India| Chennai Super Kings|    Delhi Daredevils|      bat| wickets|      Result|     V Sehwag|         8|         1|2008|    5|  2|                Low|               No|\n",
      "+--------+--------+--------------------+--------------------+----------+-----------+--------------------+----------+------------+--------------------+--------------------+---------+--------+------------+-------------+----------+----------+----+-----+---+-------------------+-----------------+\n",
      "only showing top 20 rows\n",
      "\n"
     ]
    }
   ],
   "source": [
    "match_df = match_df.withColumn(\"Year\",f.year(\"match_date\"))\n",
    "match_df = match_df.withColumn(\"Month\",f.month(\"match_date\"))\n",
    "match_df = match_df.withColumn(\"Day\",f.dayofmonth(\"match_date\"))\n",
    "\n",
    "match_df = match_df.withColumn(\"win_mragin_category\",\n",
    "                               f.when(f.col('win_margin') >= 100, \"High\")\n",
    "                               .when((f.col('win_margin') >= 50) & (f.col('win_margin') < 100), \"Medium\")\n",
    "                               .otherwise(\"Low\")\n",
    "                               )\n",
    "\n",
    "match_df = match_df.withColumn(\"toss_match_winner\",\n",
    "                               f.when(f.col(\"toss_winner\") == f.col(\"match_winner\"), \"Yes\")\n",
    "                               .otherwise(\"No\")\n",
    "                               )\n",
    "\n",
    "match_df.show()"
   ]
  },
  {
   "cell_type": "code",
   "execution_count": 24,
   "metadata": {},
   "outputs": [
    {
     "name": "stdout",
     "output_type": "stream",
     "text": [
      "+---------+---------+---------------+----------+--------------+--------------------+------------+-------------+---+\n",
      "|player_sk|player_id|    player_name|       dob|  batting_hand|       bowling_skill|country_name|batting_style|age|\n",
      "+---------+---------+---------------+----------+--------------+--------------------+------------+-------------+---+\n",
      "|        0|        1|     SC Ganguly|1972-07-08| Left-hand bat|    Right-arm medium|       India| Right-Handed| 52|\n",
      "|        1|        2|    BB McCullum|1981-09-27|Right-hand bat|    Right-arm medium| New Zealand| Right-Handed| 43|\n",
      "|        2|        3|     RT Ponting|1974-12-19|Right-hand bat|    Right-arm medium|   Australia| Right-Handed| 50|\n",
      "|        3|        4|      DJ Hussey|1977-07-15|Right-hand bat|  Right-arm offbreak|   Australia| Right-Handed| 47|\n",
      "|        4|        5|Mohammad Hafeez|1980-10-17|Right-hand bat|  Right-arm offbreak|    Pakistan| Right-Handed| 44|\n",
      "|        5|        6|       R Dravid|1973-01-11|Right-hand bat|  Right-arm offbreak|       India| Right-Handed| 51|\n",
      "|        6|        7|       W Jaffer|1978-02-16|Right-hand bat|  Right-arm offbreak|       India| Right-Handed| 46|\n",
      "|        7|        8|        V Kohli|1988-11-05|Right-hand bat|    Right-arm medium|       India| Right-Handed| 36|\n",
      "|        8|        9|      JH Kallis|1975-10-16|Right-hand bat|Right-arm fast-me...|South Africa| Right-Handed| 49|\n",
      "|        9|       10|       CL White|1983-08-18|Right-hand bat|     Legbreak googly|   Australia| Right-Handed| 41|\n",
      "|       10|       11|     MV Boucher|1976-12-03|Right-hand bat|    Right-arm medium|South Africa| Right-Handed| 48|\n",
      "|       11|       12|        B Akhil|1977-10-07|Right-hand bat|Right-arm medium-...|       India| Right-Handed| 47|\n",
      "|       12|       13|      AA Noffke|1977-04-30|Right-hand bat|Right-arm fast-me...|   Australia| Right-Handed| 47|\n",
      "|       13|       14|        P Kumar|1986-10-02|Right-hand bat|    Right-arm medium|       India| Right-Handed| 38|\n",
      "|       14|       15|         Z Khan|1978-10-07|Right-hand bat|Left-arm fast-medium|       India| Right-Handed| 46|\n",
      "|       15|       16|       SB Joshi|1970-06-06| Left-hand bat|Slow left-arm ort...|       India| Right-Handed| 54|\n",
      "|       16|       17|       PA Patel|1985-03-09| Left-hand bat|                 N/A|       India| Right-Handed| 39|\n",
      "|       17|       18|      ML Hayden|1971-10-29| Left-hand bat|    Right-arm medium|   Australia| Right-Handed| 53|\n",
      "|       18|       19|     MEK Hussey|1975-05-27| Left-hand bat|    Right-arm medium|   Australia| Right-Handed| 49|\n",
      "|       19|       20|       MS Dhoni|1981-07-07|Right-hand bat|    Right-arm medium|       India| Right-Handed| 43|\n",
      "+---------+---------+---------------+----------+--------------+--------------------+------------+-------------+---+\n",
      "only showing top 20 rows\n",
      "\n"
     ]
    }
   ],
   "source": [
    "player_df = player_df.na.fill({\"batting_hand\":\"unknown\", \"bowling_skill\":\"unknown\"})\n",
    "player_df = player_df.withColumn(\"batting_style\",f.when(f.col(\"batting_hand\").contains(\"left\"), \"Left-Handed\").otherwise(\"Right-Handed\"))\n",
    "player_df = player_df.withColumn(\"age\",(f.datediff(f.current_date(), f.col('dob')) / 365.25).cast(\"int\"))\n",
    "player_df.show()"
   ]
  },
  {
   "cell_type": "code",
   "execution_count": 25,
   "metadata": {},
   "outputs": [],
   "source": [
    "ball_by_ball_df.createOrReplaceTempView(\"ball_by_ball\")\n",
    "match_df.createOrReplaceTempView(\"match\")\n",
    "player_df.createOrReplaceTempView(\"player\")\n",
    "player_match_df.createOrReplaceTempView(\"player_match\")\n",
    "team_df.createOrReplaceTempView(\"team\")"
   ]
  },
  {
   "cell_type": "code",
   "execution_count": 26,
   "metadata": {},
   "outputs": [],
   "source": [
    "top_scoring_batsman = spark.sql(\"\"\"\n",
    "                                SELECT\n",
    "                                P.PLAYER_NAME,M.SEASON_YEAR,SUM(B.RUNS_SCORED) AS TOTAL_RUNS\n",
    "                                FROM BALL_BY_BALL B\n",
    "                                INNER JOIN MATCH M ON B.MATCH_ID = M.MATCH_ID\n",
    "                                INNER JOIN PLAYER_MATCH PM ON M.MATCH_ID = PM.MATCH_ID AND B.STRIKER = PM.PLAYER_ID\n",
    "                                INNER JOIN PLAYER P ON P.PLAYER_ID = PM.PLAYER_ID\n",
    "                                GROUP BY P.PLAYER_NAME,m.SEASON_YEAR\n",
    "                                ORDER BY M.SEASON_YEAR, TOTAL_RUNS DESC\n",
    "                                \"\"\")"
   ]
  },
  {
   "cell_type": "code",
   "execution_count": 27,
   "metadata": {},
   "outputs": [
    {
     "name": "stdout",
     "output_type": "stream",
     "text": [
      "+-------------+-----------+----------+\n",
      "|  PLAYER_NAME|SEASON_YEAR|TOTAL_RUNS|\n",
      "+-------------+-----------+----------+\n",
      "|     SE Marsh|       2008|       614|\n",
      "|    G Gambhir|       2008|       532|\n",
      "|ST Jayasuriya|       2008|       508|\n",
      "|    SR Watson|       2008|       463|\n",
      "|     GC Smith|       2008|       437|\n",
      "| AC Gilchrist|       2008|       431|\n",
      "|    YK Pathan|       2008|       430|\n",
      "|     SK Raina|       2008|       420|\n",
      "|     MS Dhoni|       2008|       414|\n",
      "|    RG Sharma|       2008|       399|\n",
      "|     V Sehwag|       2008|       399|\n",
      "|     R Dravid|       2008|       370|\n",
      "|   SC Ganguly|       2008|       349|\n",
      "|     S Dhawan|       2008|       340|\n",
      "|KC Sangakkara|       2008|       319|\n",
      "|    DJ Hussey|       2008|       318|\n",
      "|   RV Uthappa|       2008|       316|\n",
      "|  SA Asnodkar|       2008|       311|\n",
      "| Yuvraj Singh|       2008|       299|\n",
      "|     PA Patel|       2008|       297|\n",
      "+-------------+-----------+----------+\n",
      "only showing top 20 rows\n",
      "\n"
     ]
    },
    {
     "name": "stderr",
     "output_type": "stream",
     "text": [
      "                                                                                \r"
     ]
    }
   ],
   "source": [
    "top_scoring_batsman.show()"
   ]
  }
 ],
 "metadata": {
  "kernelspec": {
   "display_name": ".venv",
   "language": "python",
   "name": "python3"
  },
  "language_info": {
   "codemirror_mode": {
    "name": "ipython",
    "version": 3
   },
   "file_extension": ".py",
   "mimetype": "text/x-python",
   "name": "python",
   "nbconvert_exporter": "python",
   "pygments_lexer": "ipython3",
   "version": "3.9.6"
  }
 },
 "nbformat": 4,
 "nbformat_minor": 2
}
